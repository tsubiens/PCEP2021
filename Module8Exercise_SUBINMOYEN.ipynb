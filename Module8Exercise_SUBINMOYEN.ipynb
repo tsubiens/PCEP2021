{
 "cells": [
  {
   "cell_type": "markdown",
   "metadata": {},
   "source": [
    "### Exercise 1\n",
    "Create a multiplication table from 1 to 10"
   ]
  },
  {
   "cell_type": "code",
   "execution_count": 1,
   "metadata": {},
   "outputs": [
    {
     "name": "stdout",
     "output_type": "stream",
     "text": [
      "1\t 2\t 3\t 4\t 5\t 6\t 7\t 8\t 9\t 10\t \n",
      "2\t 4\t 6\t 8\t 10\t 12\t 14\t 16\t 18\t 20\t \n",
      "3\t 6\t 9\t 12\t 15\t 18\t 21\t 24\t 27\t 30\t \n",
      "4\t 8\t 12\t 16\t 20\t 24\t 28\t 32\t 36\t 40\t \n",
      "5\t 10\t 15\t 20\t 25\t 30\t 35\t 40\t 45\t 50\t \n",
      "6\t 12\t 18\t 24\t 30\t 36\t 42\t 48\t 54\t 60\t \n",
      "7\t 14\t 21\t 28\t 35\t 42\t 49\t 56\t 63\t 70\t \n",
      "8\t 16\t 24\t 32\t 40\t 48\t 56\t 64\t 72\t 80\t \n",
      "9\t 18\t 27\t 36\t 45\t 54\t 63\t 72\t 81\t 90\t \n",
      "10\t 20\t 30\t 40\t 50\t 60\t 70\t 80\t 90\t 100\t \n"
     ]
    }
   ],
   "source": [
    "for x in range(1, 11) :\n",
    "    for y in range(1, 11) :\n",
    "        z = x * y\n",
    "        print(f\"{z}\\t\", end=' ')\n",
    "    print()"
   ]
  },
  {
   "cell_type": "markdown",
   "metadata": {},
   "source": [
    "### Exercise 2\n",
    "Write a program to find the Fibonacci numbers where each number is the sum of the two preceding ones, starting from 0 and 1. \n",
    "\n",
    "    e.g.\n",
    "    0, 1, 1, 2, 3, 5, 8, ...\n",
    "    \n",
    "Ask a user to enter a number of sequence. Generate the Fibonacci numbers in to a list. Then, print out the list.  \n",
    "\n",
    "The output should look something like this:\n",
    "\n",
    "    How many Fibonacci numbers would you like to generate? 10    \n",
    "    10 Fibonacci numbers are [0, 1, 1, 2, 3, 5, 8, 13, 21, 34]."
   ]
  },
  {
   "cell_type": "code",
   "execution_count": 12,
   "metadata": {},
   "outputs": [
    {
     "name": "stdout",
     "output_type": "stream",
     "text": [
      "How many Fibonacci numbers would you like to generate? 10\n",
      "[0, 1, 1, 2, 3, 5, 8, 13, 21, 34, 55]\n"
     ]
    }
   ],
   "source": [
    "num = int(input(\"How many Fibonacci numbers would you like to generate? \"))\n",
    "list = []\n",
    "for i in range(0, num+1):\n",
    "    if i== 0:\n",
    "        list.append(0)\n",
    "    elif i == 1:\n",
    "        list.append(1)\n",
    "    else:\n",
    "        list.append(list[i-2]+list[i-1])\n",
    "print (list)"
   ]
  },
  {
   "cell_type": "code",
   "execution_count": null,
   "metadata": {},
   "outputs": [],
   "source": []
  }
 ],
 "metadata": {
  "kernelspec": {
   "display_name": "Python 3",
   "language": "python",
   "name": "python3"
  },
  "language_info": {
   "codemirror_mode": {
    "name": "ipython",
    "version": 3
   },
   "file_extension": ".py",
   "mimetype": "text/x-python",
   "name": "python",
   "nbconvert_exporter": "python",
   "pygments_lexer": "ipython3",
   "version": "3.8.8"
  }
 },
 "nbformat": 4,
 "nbformat_minor": 4
}
